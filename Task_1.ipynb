{
  "cells": [
    {
      "cell_type": "markdown",
      "source": [
        "# **TASK-1** #\n",
        "# **By C.N.Vigneshwar**\n",
        "#**Topic:Stock Price Prediction**\n",
        "#**Dataset:Tesla stock price dataset**\n",
        "\n"
      ],
      "metadata": {
        "id": "i10tE5hXLbw8"
      },
      "id": "i10tE5hXLbw8"
    },
    {
      "cell_type": "code",
      "execution_count": 3,
      "id": "a87f358a",
      "metadata": {
        "_cell_guid": "b1076dfc-b9ad-4769-8c92-a6c4dae69d19",
        "_uuid": "8f2839f25d086af736a60e9eeb907d3b93b6e0e5",
        "execution": {
          "iopub.execute_input": "2022-03-14T04:36:27.688990Z",
          "iopub.status.busy": "2022-03-14T04:36:27.688170Z",
          "iopub.status.idle": "2022-03-14T04:36:29.055231Z",
          "shell.execute_reply": "2022-03-14T04:36:29.055706Z",
          "shell.execute_reply.started": "2022-03-14T03:56:17.636580Z"
        },
        "papermill": {
          "duration": 1.39747,
          "end_time": "2022-03-14T04:36:29.055978",
          "exception": false,
          "start_time": "2022-03-14T04:36:27.658508",
          "status": "completed"
        },
        "tags": [],
        "colab": {
          "base_uri": "https://localhost:8080/",
          "height": 143
        },
        "id": "a87f358a",
        "outputId": "dbed15b7-0b26-4a4e-fb68-853907d417f1"
      },
      "outputs": [
        {
          "output_type": "execute_result",
          "data": {
            "text/plain": [
              "         Date       Open   High        Low      Close  Adj Close    Volume\n",
              "0  2010-06-29  19.000000  25.00  17.540001  23.889999  23.889999  18766300\n",
              "1  2010-06-30  25.790001  30.42  23.299999  23.830000  23.830000  17187100\n",
              "2  2010-07-01  25.000000  25.92  20.270000  21.959999  21.959999   8218800"
            ],
            "text/html": [
              "\n",
              "  <div id=\"df-eee93a3c-0f60-43bc-9a75-524d78a12eb9\">\n",
              "    <div class=\"colab-df-container\">\n",
              "      <div>\n",
              "<style scoped>\n",
              "    .dataframe tbody tr th:only-of-type {\n",
              "        vertical-align: middle;\n",
              "    }\n",
              "\n",
              "    .dataframe tbody tr th {\n",
              "        vertical-align: top;\n",
              "    }\n",
              "\n",
              "    .dataframe thead th {\n",
              "        text-align: right;\n",
              "    }\n",
              "</style>\n",
              "<table border=\"1\" class=\"dataframe\">\n",
              "  <thead>\n",
              "    <tr style=\"text-align: right;\">\n",
              "      <th></th>\n",
              "      <th>Date</th>\n",
              "      <th>Open</th>\n",
              "      <th>High</th>\n",
              "      <th>Low</th>\n",
              "      <th>Close</th>\n",
              "      <th>Adj Close</th>\n",
              "      <th>Volume</th>\n",
              "    </tr>\n",
              "  </thead>\n",
              "  <tbody>\n",
              "    <tr>\n",
              "      <th>0</th>\n",
              "      <td>2010-06-29</td>\n",
              "      <td>19.000000</td>\n",
              "      <td>25.00</td>\n",
              "      <td>17.540001</td>\n",
              "      <td>23.889999</td>\n",
              "      <td>23.889999</td>\n",
              "      <td>18766300</td>\n",
              "    </tr>\n",
              "    <tr>\n",
              "      <th>1</th>\n",
              "      <td>2010-06-30</td>\n",
              "      <td>25.790001</td>\n",
              "      <td>30.42</td>\n",
              "      <td>23.299999</td>\n",
              "      <td>23.830000</td>\n",
              "      <td>23.830000</td>\n",
              "      <td>17187100</td>\n",
              "    </tr>\n",
              "    <tr>\n",
              "      <th>2</th>\n",
              "      <td>2010-07-01</td>\n",
              "      <td>25.000000</td>\n",
              "      <td>25.92</td>\n",
              "      <td>20.270000</td>\n",
              "      <td>21.959999</td>\n",
              "      <td>21.959999</td>\n",
              "      <td>8218800</td>\n",
              "    </tr>\n",
              "  </tbody>\n",
              "</table>\n",
              "</div>\n",
              "      <button class=\"colab-df-convert\" onclick=\"convertToInteractive('df-eee93a3c-0f60-43bc-9a75-524d78a12eb9')\"\n",
              "              title=\"Convert this dataframe to an interactive table.\"\n",
              "              style=\"display:none;\">\n",
              "        \n",
              "  <svg xmlns=\"http://www.w3.org/2000/svg\" height=\"24px\"viewBox=\"0 0 24 24\"\n",
              "       width=\"24px\">\n",
              "    <path d=\"M0 0h24v24H0V0z\" fill=\"none\"/>\n",
              "    <path d=\"M18.56 5.44l.94 2.06.94-2.06 2.06-.94-2.06-.94-.94-2.06-.94 2.06-2.06.94zm-11 1L8.5 8.5l.94-2.06 2.06-.94-2.06-.94L8.5 2.5l-.94 2.06-2.06.94zm10 10l.94 2.06.94-2.06 2.06-.94-2.06-.94-.94-2.06-.94 2.06-2.06.94z\"/><path d=\"M17.41 7.96l-1.37-1.37c-.4-.4-.92-.59-1.43-.59-.52 0-1.04.2-1.43.59L10.3 9.45l-7.72 7.72c-.78.78-.78 2.05 0 2.83L4 21.41c.39.39.9.59 1.41.59.51 0 1.02-.2 1.41-.59l7.78-7.78 2.81-2.81c.8-.78.8-2.07 0-2.86zM5.41 20L4 18.59l7.72-7.72 1.47 1.35L5.41 20z\"/>\n",
              "  </svg>\n",
              "      </button>\n",
              "      \n",
              "  <style>\n",
              "    .colab-df-container {\n",
              "      display:flex;\n",
              "      flex-wrap:wrap;\n",
              "      gap: 12px;\n",
              "    }\n",
              "\n",
              "    .colab-df-convert {\n",
              "      background-color: #E8F0FE;\n",
              "      border: none;\n",
              "      border-radius: 50%;\n",
              "      cursor: pointer;\n",
              "      display: none;\n",
              "      fill: #1967D2;\n",
              "      height: 32px;\n",
              "      padding: 0 0 0 0;\n",
              "      width: 32px;\n",
              "    }\n",
              "\n",
              "    .colab-df-convert:hover {\n",
              "      background-color: #E2EBFA;\n",
              "      box-shadow: 0px 1px 2px rgba(60, 64, 67, 0.3), 0px 1px 3px 1px rgba(60, 64, 67, 0.15);\n",
              "      fill: #174EA6;\n",
              "    }\n",
              "\n",
              "    [theme=dark] .colab-df-convert {\n",
              "      background-color: #3B4455;\n",
              "      fill: #D2E3FC;\n",
              "    }\n",
              "\n",
              "    [theme=dark] .colab-df-convert:hover {\n",
              "      background-color: #434B5C;\n",
              "      box-shadow: 0px 1px 3px 1px rgba(0, 0, 0, 0.15);\n",
              "      filter: drop-shadow(0px 1px 2px rgba(0, 0, 0, 0.3));\n",
              "      fill: #FFFFFF;\n",
              "    }\n",
              "  </style>\n",
              "\n",
              "      <script>\n",
              "        const buttonEl =\n",
              "          document.querySelector('#df-eee93a3c-0f60-43bc-9a75-524d78a12eb9 button.colab-df-convert');\n",
              "        buttonEl.style.display =\n",
              "          google.colab.kernel.accessAllowed ? 'block' : 'none';\n",
              "\n",
              "        async function convertToInteractive(key) {\n",
              "          const element = document.querySelector('#df-eee93a3c-0f60-43bc-9a75-524d78a12eb9');\n",
              "          const dataTable =\n",
              "            await google.colab.kernel.invokeFunction('convertToInteractive',\n",
              "                                                     [key], {});\n",
              "          if (!dataTable) return;\n",
              "\n",
              "          const docLinkHtml = 'Like what you see? Visit the ' +\n",
              "            '<a target=\"_blank\" href=https://colab.research.google.com/notebooks/data_table.ipynb>data table notebook</a>'\n",
              "            + ' to learn more about interactive tables.';\n",
              "          element.innerHTML = '';\n",
              "          dataTable['output_type'] = 'display_data';\n",
              "          await google.colab.output.renderOutput(dataTable, element);\n",
              "          const docLink = document.createElement('div');\n",
              "          docLink.innerHTML = docLinkHtml;\n",
              "          element.appendChild(docLink);\n",
              "        }\n",
              "      </script>\n",
              "    </div>\n",
              "  </div>\n",
              "  "
            ]
          },
          "metadata": {},
          "execution_count": 3
        }
      ],
      "source": [
        "# Importing essential modules\n",
        "import numpy as np\n",
        "import pandas as pd\n",
        "import seaborn\n",
        "from sklearn.model_selection import train_test_split\n",
        "from sklearn.linear_model import LinearRegression\n",
        "\n",
        "# Path to the CSV file\n",
        "datapath = \"TSLA.csv\"\n",
        "\n",
        "# Loading the CSV file\n",
        "df = pd.read_csv(datapath)\n",
        "\n",
        "# Printing first 3 rows of the dataset\n",
        "df.head(3)"
      ]
    },
    {
      "cell_type": "markdown",
      "id": "8b8671b8",
      "metadata": {
        "papermill": {
          "duration": 0.017016,
          "end_time": "2022-03-14T04:36:29.091327",
          "exception": false,
          "start_time": "2022-03-14T04:36:29.074311",
          "status": "completed"
        },
        "tags": [],
        "id": "8b8671b8"
      },
      "source": [
        "Here:\n",
        "\n",
        "    The date - \"Date\"\n",
        "\n",
        "    The opening price of the stock - \"Open\"\n",
        "\n",
        "    The high price of that day - \"High\"\n",
        "\n",
        "    The low price of that day - \"Low\"\n",
        "\n",
        "    The closed price of that day - \"Close\"\n",
        "\n",
        "    The amount of stocks traded during that day - \"Volume\"\n",
        "\n",
        "    The stock's closing price that has been amended to include any distributions/corporate actions that occurs before next days open - \"Adj[usted] Close\"\n",
        "    \n",
        " <blockquote> Source: https://www.kaggle.com/rpaguirre/tesla-stock-price </blockquote>\n"
      ]
    },
    {
      "cell_type": "code",
      "execution_count": 4,
      "id": "2b312e8a",
      "metadata": {
        "execution": {
          "iopub.execute_input": "2022-03-14T04:36:29.142932Z",
          "iopub.status.busy": "2022-03-14T04:36:29.141336Z",
          "iopub.status.idle": "2022-03-14T04:36:29.166388Z",
          "shell.execute_reply": "2022-03-14T04:36:29.166875Z",
          "shell.execute_reply.started": "2022-03-14T03:56:17.660042Z"
        },
        "papermill": {
          "duration": 0.0586,
          "end_time": "2022-03-14T04:36:29.167069",
          "exception": false,
          "start_time": "2022-03-14T04:36:29.108469",
          "status": "completed"
        },
        "tags": [],
        "colab": {
          "base_uri": "https://localhost:8080/",
          "height": 301
        },
        "id": "2b312e8a",
        "outputId": "d95dfd48-9a71-4a92-ed9f-8a8ae1712b65"
      },
      "outputs": [
        {
          "output_type": "execute_result",
          "data": {
            "text/plain": [
              "              Open         High          Low        Close    Adj Close  \\\n",
              "count  2416.000000  2416.000000  2416.000000  2416.000000  2416.000000   \n",
              "mean    186.271147   189.578224   182.916639   186.403651   186.403651   \n",
              "std     118.740163   120.892329   116.857591   119.136020   119.136020   \n",
              "min      16.139999    16.629999    14.980000    15.800000    15.800000   \n",
              "25%      34.342498    34.897501    33.587501    34.400002    34.400002   \n",
              "50%     213.035004   216.745002   208.870002   212.960007   212.960007   \n",
              "75%     266.450012   270.927513   262.102501   266.774994   266.774994   \n",
              "max     673.690002   786.140015   673.520020   780.000000   780.000000   \n",
              "\n",
              "             Volume  \n",
              "count  2.416000e+03  \n",
              "mean   5.572722e+06  \n",
              "std    4.987809e+06  \n",
              "min    1.185000e+05  \n",
              "25%    1.899275e+06  \n",
              "50%    4.578400e+06  \n",
              "75%    7.361150e+06  \n",
              "max    4.706500e+07  "
            ],
            "text/html": [
              "\n",
              "  <div id=\"df-488d9c31-1dbb-42ab-adbe-55c0f3c21cc4\">\n",
              "    <div class=\"colab-df-container\">\n",
              "      <div>\n",
              "<style scoped>\n",
              "    .dataframe tbody tr th:only-of-type {\n",
              "        vertical-align: middle;\n",
              "    }\n",
              "\n",
              "    .dataframe tbody tr th {\n",
              "        vertical-align: top;\n",
              "    }\n",
              "\n",
              "    .dataframe thead th {\n",
              "        text-align: right;\n",
              "    }\n",
              "</style>\n",
              "<table border=\"1\" class=\"dataframe\">\n",
              "  <thead>\n",
              "    <tr style=\"text-align: right;\">\n",
              "      <th></th>\n",
              "      <th>Open</th>\n",
              "      <th>High</th>\n",
              "      <th>Low</th>\n",
              "      <th>Close</th>\n",
              "      <th>Adj Close</th>\n",
              "      <th>Volume</th>\n",
              "    </tr>\n",
              "  </thead>\n",
              "  <tbody>\n",
              "    <tr>\n",
              "      <th>count</th>\n",
              "      <td>2416.000000</td>\n",
              "      <td>2416.000000</td>\n",
              "      <td>2416.000000</td>\n",
              "      <td>2416.000000</td>\n",
              "      <td>2416.000000</td>\n",
              "      <td>2.416000e+03</td>\n",
              "    </tr>\n",
              "    <tr>\n",
              "      <th>mean</th>\n",
              "      <td>186.271147</td>\n",
              "      <td>189.578224</td>\n",
              "      <td>182.916639</td>\n",
              "      <td>186.403651</td>\n",
              "      <td>186.403651</td>\n",
              "      <td>5.572722e+06</td>\n",
              "    </tr>\n",
              "    <tr>\n",
              "      <th>std</th>\n",
              "      <td>118.740163</td>\n",
              "      <td>120.892329</td>\n",
              "      <td>116.857591</td>\n",
              "      <td>119.136020</td>\n",
              "      <td>119.136020</td>\n",
              "      <td>4.987809e+06</td>\n",
              "    </tr>\n",
              "    <tr>\n",
              "      <th>min</th>\n",
              "      <td>16.139999</td>\n",
              "      <td>16.629999</td>\n",
              "      <td>14.980000</td>\n",
              "      <td>15.800000</td>\n",
              "      <td>15.800000</td>\n",
              "      <td>1.185000e+05</td>\n",
              "    </tr>\n",
              "    <tr>\n",
              "      <th>25%</th>\n",
              "      <td>34.342498</td>\n",
              "      <td>34.897501</td>\n",
              "      <td>33.587501</td>\n",
              "      <td>34.400002</td>\n",
              "      <td>34.400002</td>\n",
              "      <td>1.899275e+06</td>\n",
              "    </tr>\n",
              "    <tr>\n",
              "      <th>50%</th>\n",
              "      <td>213.035004</td>\n",
              "      <td>216.745002</td>\n",
              "      <td>208.870002</td>\n",
              "      <td>212.960007</td>\n",
              "      <td>212.960007</td>\n",
              "      <td>4.578400e+06</td>\n",
              "    </tr>\n",
              "    <tr>\n",
              "      <th>75%</th>\n",
              "      <td>266.450012</td>\n",
              "      <td>270.927513</td>\n",
              "      <td>262.102501</td>\n",
              "      <td>266.774994</td>\n",
              "      <td>266.774994</td>\n",
              "      <td>7.361150e+06</td>\n",
              "    </tr>\n",
              "    <tr>\n",
              "      <th>max</th>\n",
              "      <td>673.690002</td>\n",
              "      <td>786.140015</td>\n",
              "      <td>673.520020</td>\n",
              "      <td>780.000000</td>\n",
              "      <td>780.000000</td>\n",
              "      <td>4.706500e+07</td>\n",
              "    </tr>\n",
              "  </tbody>\n",
              "</table>\n",
              "</div>\n",
              "      <button class=\"colab-df-convert\" onclick=\"convertToInteractive('df-488d9c31-1dbb-42ab-adbe-55c0f3c21cc4')\"\n",
              "              title=\"Convert this dataframe to an interactive table.\"\n",
              "              style=\"display:none;\">\n",
              "        \n",
              "  <svg xmlns=\"http://www.w3.org/2000/svg\" height=\"24px\"viewBox=\"0 0 24 24\"\n",
              "       width=\"24px\">\n",
              "    <path d=\"M0 0h24v24H0V0z\" fill=\"none\"/>\n",
              "    <path d=\"M18.56 5.44l.94 2.06.94-2.06 2.06-.94-2.06-.94-.94-2.06-.94 2.06-2.06.94zm-11 1L8.5 8.5l.94-2.06 2.06-.94-2.06-.94L8.5 2.5l-.94 2.06-2.06.94zm10 10l.94 2.06.94-2.06 2.06-.94-2.06-.94-.94-2.06-.94 2.06-2.06.94z\"/><path d=\"M17.41 7.96l-1.37-1.37c-.4-.4-.92-.59-1.43-.59-.52 0-1.04.2-1.43.59L10.3 9.45l-7.72 7.72c-.78.78-.78 2.05 0 2.83L4 21.41c.39.39.9.59 1.41.59.51 0 1.02-.2 1.41-.59l7.78-7.78 2.81-2.81c.8-.78.8-2.07 0-2.86zM5.41 20L4 18.59l7.72-7.72 1.47 1.35L5.41 20z\"/>\n",
              "  </svg>\n",
              "      </button>\n",
              "      \n",
              "  <style>\n",
              "    .colab-df-container {\n",
              "      display:flex;\n",
              "      flex-wrap:wrap;\n",
              "      gap: 12px;\n",
              "    }\n",
              "\n",
              "    .colab-df-convert {\n",
              "      background-color: #E8F0FE;\n",
              "      border: none;\n",
              "      border-radius: 50%;\n",
              "      cursor: pointer;\n",
              "      display: none;\n",
              "      fill: #1967D2;\n",
              "      height: 32px;\n",
              "      padding: 0 0 0 0;\n",
              "      width: 32px;\n",
              "    }\n",
              "\n",
              "    .colab-df-convert:hover {\n",
              "      background-color: #E2EBFA;\n",
              "      box-shadow: 0px 1px 2px rgba(60, 64, 67, 0.3), 0px 1px 3px 1px rgba(60, 64, 67, 0.15);\n",
              "      fill: #174EA6;\n",
              "    }\n",
              "\n",
              "    [theme=dark] .colab-df-convert {\n",
              "      background-color: #3B4455;\n",
              "      fill: #D2E3FC;\n",
              "    }\n",
              "\n",
              "    [theme=dark] .colab-df-convert:hover {\n",
              "      background-color: #434B5C;\n",
              "      box-shadow: 0px 1px 3px 1px rgba(0, 0, 0, 0.15);\n",
              "      filter: drop-shadow(0px 1px 2px rgba(0, 0, 0, 0.3));\n",
              "      fill: #FFFFFF;\n",
              "    }\n",
              "  </style>\n",
              "\n",
              "      <script>\n",
              "        const buttonEl =\n",
              "          document.querySelector('#df-488d9c31-1dbb-42ab-adbe-55c0f3c21cc4 button.colab-df-convert');\n",
              "        buttonEl.style.display =\n",
              "          google.colab.kernel.accessAllowed ? 'block' : 'none';\n",
              "\n",
              "        async function convertToInteractive(key) {\n",
              "          const element = document.querySelector('#df-488d9c31-1dbb-42ab-adbe-55c0f3c21cc4');\n",
              "          const dataTable =\n",
              "            await google.colab.kernel.invokeFunction('convertToInteractive',\n",
              "                                                     [key], {});\n",
              "          if (!dataTable) return;\n",
              "\n",
              "          const docLinkHtml = 'Like what you see? Visit the ' +\n",
              "            '<a target=\"_blank\" href=https://colab.research.google.com/notebooks/data_table.ipynb>data table notebook</a>'\n",
              "            + ' to learn more about interactive tables.';\n",
              "          element.innerHTML = '';\n",
              "          dataTable['output_type'] = 'display_data';\n",
              "          await google.colab.output.renderOutput(dataTable, element);\n",
              "          const docLink = document.createElement('div');\n",
              "          docLink.innerHTML = docLinkHtml;\n",
              "          element.appendChild(docLink);\n",
              "        }\n",
              "      </script>\n",
              "    </div>\n",
              "  </div>\n",
              "  "
            ]
          },
          "metadata": {},
          "execution_count": 4
        }
      ],
      "source": [
        "# Printing statistical information of the dataset\n",
        "df.describe()"
      ]
    },
    {
      "cell_type": "code",
      "execution_count": 5,
      "id": "5433b2a6",
      "metadata": {
        "execution": {
          "iopub.execute_input": "2022-03-14T04:36:29.207514Z",
          "iopub.status.busy": "2022-03-14T04:36:29.206832Z",
          "iopub.status.idle": "2022-03-14T04:36:29.211572Z",
          "shell.execute_reply": "2022-03-14T04:36:29.212060Z",
          "shell.execute_reply.started": "2022-03-14T03:56:17.684301Z"
        },
        "papermill": {
          "duration": 0.027624,
          "end_time": "2022-03-14T04:36:29.212236",
          "exception": false,
          "start_time": "2022-03-14T04:36:29.184612",
          "status": "completed"
        },
        "tags": [],
        "colab": {
          "base_uri": "https://localhost:8080/"
        },
        "id": "5433b2a6",
        "outputId": "28352417-1343-4a92-a0e1-c7fed9525503"
      },
      "outputs": [
        {
          "output_type": "execute_result",
          "data": {
            "text/plain": [
              "Date         0\n",
              "Open         0\n",
              "High         0\n",
              "Low          0\n",
              "Close        0\n",
              "Adj Close    0\n",
              "Volume       0\n",
              "dtype: int64"
            ]
          },
          "metadata": {},
          "execution_count": 5
        }
      ],
      "source": [
        "# Checking for empty data fields in the dataset\n",
        "df.isnull().sum()"
      ]
    },
    {
      "cell_type": "code",
      "execution_count": 6,
      "id": "f7955c63",
      "metadata": {
        "execution": {
          "iopub.execute_input": "2022-03-14T04:36:29.253370Z",
          "iopub.status.busy": "2022-03-14T04:36:29.252749Z",
          "iopub.status.idle": "2022-03-14T04:36:29.267940Z",
          "shell.execute_reply": "2022-03-14T04:36:29.268717Z",
          "shell.execute_reply.started": "2022-03-14T03:56:17.692790Z"
        },
        "papermill": {
          "duration": 0.037377,
          "end_time": "2022-03-14T04:36:29.268959",
          "exception": false,
          "start_time": "2022-03-14T04:36:29.231582",
          "status": "completed"
        },
        "tags": [],
        "colab": {
          "base_uri": "https://localhost:8080/"
        },
        "id": "f7955c63",
        "outputId": "ad74d216-5cbb-43ba-ff5d-fc1738b923ba"
      },
      "outputs": [
        {
          "output_type": "stream",
          "name": "stdout",
          "text": [
            "<class 'pandas.core.frame.DataFrame'>\n",
            "RangeIndex: 2416 entries, 0 to 2415\n",
            "Data columns (total 7 columns):\n",
            " #   Column     Non-Null Count  Dtype  \n",
            "---  ------     --------------  -----  \n",
            " 0   Date       2416 non-null   object \n",
            " 1   Open       2416 non-null   float64\n",
            " 2   High       2416 non-null   float64\n",
            " 3   Low        2416 non-null   float64\n",
            " 4   Close      2416 non-null   float64\n",
            " 5   Adj Close  2416 non-null   float64\n",
            " 6   Volume     2416 non-null   int64  \n",
            "dtypes: float64(5), int64(1), object(1)\n",
            "memory usage: 132.2+ KB\n"
          ]
        }
      ],
      "source": [
        "# Checking data types of all columns\n",
        "df.info()"
      ]
    },
    {
      "cell_type": "markdown",
      "id": "fdfecf75",
      "metadata": {
        "papermill": {
          "duration": 0.018938,
          "end_time": "2022-03-14T04:36:29.307531",
          "exception": false,
          "start_time": "2022-03-14T04:36:29.288593",
          "status": "completed"
        },
        "tags": [],
        "id": "fdfecf75"
      },
      "source": [
        "# **Here**, \n",
        "# *Date* is a **categorical data** where most of the other columns are in floating point data type. Therefore, we will not be using the date column to train our model."
      ]
    },
    {
      "cell_type": "code",
      "execution_count": 7,
      "id": "05e2cd9c",
      "metadata": {
        "execution": {
          "iopub.execute_input": "2022-03-14T04:36:29.346856Z",
          "iopub.status.busy": "2022-03-14T04:36:29.346259Z",
          "iopub.status.idle": "2022-03-14T04:36:29.350685Z",
          "shell.execute_reply": "2022-03-14T04:36:29.351203Z",
          "shell.execute_reply.started": "2022-03-14T03:56:17.708622Z"
        },
        "papermill": {
          "duration": 0.025719,
          "end_time": "2022-03-14T04:36:29.351380",
          "exception": false,
          "start_time": "2022-03-14T04:36:29.325661",
          "status": "completed"
        },
        "tags": [],
        "id": "05e2cd9c"
      },
      "outputs": [],
      "source": [
        "# Dropping date column from our dataset\n",
        "df = df.drop(['Date'],axis=1)"
      ]
    },
    {
      "cell_type": "markdown",
      "id": "ccba19fe",
      "metadata": {
        "papermill": {
          "duration": 0.017648,
          "end_time": "2022-03-14T04:36:29.387364",
          "exception": false,
          "start_time": "2022-03-14T04:36:29.369716",
          "status": "completed"
        },
        "tags": [],
        "id": "ccba19fe"
      },
      "source": [
        "# Now,\n",
        "# We want to predict the closing/the last price of the stock based on the following features in out model:\n",
        "# 1. Open\n",
        "# 2. High\n",
        "# 3. Low\n",
        "# 4. Volume.\n",
        "# \n",
        "# So, we will drop the Close and 'Adj Close' column since they contain same values."
      ]
    },
    {
      "cell_type": "code",
      "execution_count": 8,
      "id": "090713c8",
      "metadata": {
        "execution": {
          "iopub.execute_input": "2022-03-14T04:36:29.432459Z",
          "iopub.status.busy": "2022-03-14T04:36:29.431781Z",
          "iopub.status.idle": "2022-03-14T04:36:29.434379Z",
          "shell.execute_reply": "2022-03-14T04:36:29.434849Z",
          "shell.execute_reply.started": "2022-03-14T03:56:17.719361Z"
        },
        "papermill": {
          "duration": 0.027881,
          "end_time": "2022-03-14T04:36:29.435070",
          "exception": false,
          "start_time": "2022-03-14T04:36:29.407189",
          "status": "completed"
        },
        "tags": [],
        "id": "090713c8"
      },
      "outputs": [],
      "source": [
        "# Seperating Target variables and features\n",
        "# Target Variable\n",
        "y = df[\"Close\"]\n",
        "\n",
        "# Features\n",
        "x = df.drop([\"Close\",\"Adj Close\"],axis=1)"
      ]
    },
    {
      "cell_type": "code",
      "execution_count": 9,
      "id": "51d3a1f5",
      "metadata": {
        "execution": {
          "iopub.execute_input": "2022-03-14T04:36:29.475263Z",
          "iopub.status.busy": "2022-03-14T04:36:29.474512Z",
          "iopub.status.idle": "2022-03-14T04:36:29.480045Z",
          "shell.execute_reply": "2022-03-14T04:36:29.480570Z",
          "shell.execute_reply.started": "2022-03-14T03:56:17.729865Z"
        },
        "papermill": {
          "duration": 0.027415,
          "end_time": "2022-03-14T04:36:29.480735",
          "exception": false,
          "start_time": "2022-03-14T04:36:29.453320",
          "status": "completed"
        },
        "tags": [],
        "id": "51d3a1f5"
      },
      "outputs": [],
      "source": [
        "# Spliting the data in 80%, 20% for training and testing\n",
        "xTrain,xTest,yTrain,yTest = train_test_split(x,y,test_size=0.2)"
      ]
    },
    {
      "cell_type": "code",
      "execution_count": 10,
      "id": "8ab4f4b9",
      "metadata": {
        "execution": {
          "iopub.execute_input": "2022-03-14T04:36:29.522836Z",
          "iopub.status.busy": "2022-03-14T04:36:29.521877Z",
          "iopub.status.idle": "2022-03-14T04:36:29.545626Z",
          "shell.execute_reply": "2022-03-14T04:36:29.546193Z",
          "shell.execute_reply.started": "2022-03-14T03:56:17.739391Z"
        },
        "papermill": {
          "duration": 0.046419,
          "end_time": "2022-03-14T04:36:29.546368",
          "exception": false,
          "start_time": "2022-03-14T04:36:29.499949",
          "status": "completed"
        },
        "tags": [],
        "colab": {
          "base_uri": "https://localhost:8080/",
          "height": 75
        },
        "id": "8ab4f4b9",
        "outputId": "09af5e00-ade4-4390-8866-5a44bd495132"
      },
      "outputs": [
        {
          "output_type": "execute_result",
          "data": {
            "text/plain": [
              "LinearRegression()"
            ],
            "text/html": [
              "<style>#sk-container-id-1 {color: black;background-color: white;}#sk-container-id-1 pre{padding: 0;}#sk-container-id-1 div.sk-toggleable {background-color: white;}#sk-container-id-1 label.sk-toggleable__label {cursor: pointer;display: block;width: 100%;margin-bottom: 0;padding: 0.3em;box-sizing: border-box;text-align: center;}#sk-container-id-1 label.sk-toggleable__label-arrow:before {content: \"▸\";float: left;margin-right: 0.25em;color: #696969;}#sk-container-id-1 label.sk-toggleable__label-arrow:hover:before {color: black;}#sk-container-id-1 div.sk-estimator:hover label.sk-toggleable__label-arrow:before {color: black;}#sk-container-id-1 div.sk-toggleable__content {max-height: 0;max-width: 0;overflow: hidden;text-align: left;background-color: #f0f8ff;}#sk-container-id-1 div.sk-toggleable__content pre {margin: 0.2em;color: black;border-radius: 0.25em;background-color: #f0f8ff;}#sk-container-id-1 input.sk-toggleable__control:checked~div.sk-toggleable__content {max-height: 200px;max-width: 100%;overflow: auto;}#sk-container-id-1 input.sk-toggleable__control:checked~label.sk-toggleable__label-arrow:before {content: \"▾\";}#sk-container-id-1 div.sk-estimator input.sk-toggleable__control:checked~label.sk-toggleable__label {background-color: #d4ebff;}#sk-container-id-1 div.sk-label input.sk-toggleable__control:checked~label.sk-toggleable__label {background-color: #d4ebff;}#sk-container-id-1 input.sk-hidden--visually {border: 0;clip: rect(1px 1px 1px 1px);clip: rect(1px, 1px, 1px, 1px);height: 1px;margin: -1px;overflow: hidden;padding: 0;position: absolute;width: 1px;}#sk-container-id-1 div.sk-estimator {font-family: monospace;background-color: #f0f8ff;border: 1px dotted black;border-radius: 0.25em;box-sizing: border-box;margin-bottom: 0.5em;}#sk-container-id-1 div.sk-estimator:hover {background-color: #d4ebff;}#sk-container-id-1 div.sk-parallel-item::after {content: \"\";width: 100%;border-bottom: 1px solid gray;flex-grow: 1;}#sk-container-id-1 div.sk-label:hover label.sk-toggleable__label {background-color: #d4ebff;}#sk-container-id-1 div.sk-serial::before {content: \"\";position: absolute;border-left: 1px solid gray;box-sizing: border-box;top: 0;bottom: 0;left: 50%;z-index: 0;}#sk-container-id-1 div.sk-serial {display: flex;flex-direction: column;align-items: center;background-color: white;padding-right: 0.2em;padding-left: 0.2em;position: relative;}#sk-container-id-1 div.sk-item {position: relative;z-index: 1;}#sk-container-id-1 div.sk-parallel {display: flex;align-items: stretch;justify-content: center;background-color: white;position: relative;}#sk-container-id-1 div.sk-item::before, #sk-container-id-1 div.sk-parallel-item::before {content: \"\";position: absolute;border-left: 1px solid gray;box-sizing: border-box;top: 0;bottom: 0;left: 50%;z-index: -1;}#sk-container-id-1 div.sk-parallel-item {display: flex;flex-direction: column;z-index: 1;position: relative;background-color: white;}#sk-container-id-1 div.sk-parallel-item:first-child::after {align-self: flex-end;width: 50%;}#sk-container-id-1 div.sk-parallel-item:last-child::after {align-self: flex-start;width: 50%;}#sk-container-id-1 div.sk-parallel-item:only-child::after {width: 0;}#sk-container-id-1 div.sk-dashed-wrapped {border: 1px dashed gray;margin: 0 0.4em 0.5em 0.4em;box-sizing: border-box;padding-bottom: 0.4em;background-color: white;}#sk-container-id-1 div.sk-label label {font-family: monospace;font-weight: bold;display: inline-block;line-height: 1.2em;}#sk-container-id-1 div.sk-label-container {text-align: center;}#sk-container-id-1 div.sk-container {/* jupyter's `normalize.less` sets `[hidden] { display: none; }` but bootstrap.min.css set `[hidden] { display: none !important; }` so we also need the `!important` here to be able to override the default hidden behavior on the sphinx rendered scikit-learn.org. See: https://github.com/scikit-learn/scikit-learn/issues/21755 */display: inline-block !important;position: relative;}#sk-container-id-1 div.sk-text-repr-fallback {display: none;}</style><div id=\"sk-container-id-1\" class=\"sk-top-container\"><div class=\"sk-text-repr-fallback\"><pre>LinearRegression()</pre><b>In a Jupyter environment, please rerun this cell to show the HTML representation or trust the notebook. <br />On GitHub, the HTML representation is unable to render, please try loading this page with nbviewer.org.</b></div><div class=\"sk-container\" hidden><div class=\"sk-item\"><div class=\"sk-estimator sk-toggleable\"><input class=\"sk-toggleable__control sk-hidden--visually\" id=\"sk-estimator-id-1\" type=\"checkbox\" checked><label for=\"sk-estimator-id-1\" class=\"sk-toggleable__label sk-toggleable__label-arrow\">LinearRegression</label><div class=\"sk-toggleable__content\"><pre>LinearRegression()</pre></div></div></div></div></div>"
            ]
          },
          "metadata": {},
          "execution_count": 10
        }
      ],
      "source": [
        "# Making the model using LinearRegression()\n",
        "model = LinearRegression()\n",
        "\n",
        "# Fiting the training data in the model\n",
        "model.fit(xTrain,yTrain)"
      ]
    },
    {
      "cell_type": "markdown",
      "id": "2e9d09d6",
      "metadata": {
        "papermill": {
          "duration": 0.01808,
          "end_time": "2022-03-14T04:36:29.582896",
          "exception": false,
          "start_time": "2022-03-14T04:36:29.564816",
          "status": "completed"
        },
        "tags": [],
        "id": "2e9d09d6"
      },
      "source": [
        "# Checking the accuracy of the model using the score() in sklearn which uses R2 (the coefficient of determination) method to check accuracy."
      ]
    },
    {
      "cell_type": "code",
      "execution_count": 11,
      "id": "4649f3c0",
      "metadata": {
        "execution": {
          "iopub.execute_input": "2022-03-14T04:36:29.624327Z",
          "iopub.status.busy": "2022-03-14T04:36:29.623403Z",
          "iopub.status.idle": "2022-03-14T04:36:29.631630Z",
          "shell.execute_reply": "2022-03-14T04:36:29.632093Z",
          "shell.execute_reply.started": "2022-03-14T03:56:17.754640Z"
        },
        "papermill": {
          "duration": 0.030945,
          "end_time": "2022-03-14T04:36:29.632271",
          "exception": false,
          "start_time": "2022-03-14T04:36:29.601326",
          "status": "completed"
        },
        "tags": [],
        "colab": {
          "base_uri": "https://localhost:8080/"
        },
        "id": "4649f3c0",
        "outputId": "0e963bfc-2ed7-46b9-e298-93abdbf6c6e6"
      },
      "outputs": [
        {
          "output_type": "execute_result",
          "data": {
            "text/plain": [
              "0.9996515595524241"
            ]
          },
          "metadata": {},
          "execution_count": 11
        }
      ],
      "source": [
        "model.score(xTest,yTest)"
      ]
    },
    {
      "cell_type": "code",
      "execution_count": 12,
      "id": "3e093c4b",
      "metadata": {
        "execution": {
          "iopub.execute_input": "2022-03-14T04:36:29.674814Z",
          "iopub.status.busy": "2022-03-14T04:36:29.673836Z",
          "iopub.status.idle": "2022-03-14T04:36:29.679689Z",
          "shell.execute_reply": "2022-03-14T04:36:29.680403Z",
          "shell.execute_reply.started": "2022-03-14T03:56:17.889829Z"
        },
        "papermill": {
          "duration": 0.029517,
          "end_time": "2022-03-14T04:36:29.680638",
          "exception": false,
          "start_time": "2022-03-14T04:36:29.651121",
          "status": "completed"
        },
        "tags": [],
        "colab": {
          "base_uri": "https://localhost:8080/"
        },
        "id": "3e093c4b",
        "outputId": "c9407598-e97a-46ef-9674-0cd33d7c11da"
      },
      "outputs": [
        {
          "output_type": "stream",
          "name": "stdout",
          "text": [
            "Intercept:  0.000652945735424737\n",
            "Coefficients: \n",
            "-0.6586682820696185\n",
            "0.9299119315690143\n",
            "0.7270168107715667\n",
            "-3.4717063002176474e-08\n"
          ]
        }
      ],
      "source": [
        "# Getting the intercept and Coefficients\n",
        "print(\"Intercept: \",model.intercept_)\n",
        "print(\"Coefficients: \")\n",
        "for _ in model.coef_:\n",
        "    print(_)"
      ]
    },
    {
      "cell_type": "code",
      "execution_count": 13,
      "id": "54dc12a1",
      "metadata": {
        "execution": {
          "iopub.execute_input": "2022-03-14T04:36:29.729261Z",
          "iopub.status.busy": "2022-03-14T04:36:29.728599Z",
          "iopub.status.idle": "2022-03-14T04:36:29.731103Z",
          "shell.execute_reply": "2022-03-14T04:36:29.731549Z",
          "shell.execute_reply.started": "2022-03-14T03:56:17.897097Z"
        },
        "papermill": {
          "duration": 0.029433,
          "end_time": "2022-03-14T04:36:29.731718",
          "exception": false,
          "start_time": "2022-03-14T04:36:29.702285",
          "status": "completed"
        },
        "tags": [],
        "id": "54dc12a1"
      },
      "outputs": [],
      "source": [
        "# Making predictions using the predict() and xTest data\n",
        "predictions = model.predict(xTest)"
      ]
    },
    {
      "cell_type": "code",
      "execution_count": 14,
      "id": "290bc669",
      "metadata": {
        "execution": {
          "iopub.execute_input": "2022-03-14T04:36:29.777254Z",
          "iopub.status.busy": "2022-03-14T04:36:29.776325Z",
          "iopub.status.idle": "2022-03-14T04:36:29.781336Z",
          "shell.execute_reply": "2022-03-14T04:36:29.780763Z",
          "shell.execute_reply.started": "2022-03-14T03:56:17.907017Z"
        },
        "papermill": {
          "duration": 0.029763,
          "end_time": "2022-03-14T04:36:29.781490",
          "exception": false,
          "start_time": "2022-03-14T04:36:29.751727",
          "status": "completed"
        },
        "tags": [],
        "id": "290bc669"
      },
      "outputs": [],
      "source": [
        "comparison = pd.DataFrame({'Predicted Values':predictions,'Actual Values':yTest})"
      ]
    },
    {
      "cell_type": "code",
      "execution_count": 15,
      "id": "412e34e2",
      "metadata": {
        "execution": {
          "iopub.execute_input": "2022-03-14T04:36:29.827148Z",
          "iopub.status.busy": "2022-03-14T04:36:29.826451Z",
          "iopub.status.idle": "2022-03-14T04:36:29.830753Z",
          "shell.execute_reply": "2022-03-14T04:36:29.831886Z",
          "shell.execute_reply.started": "2022-03-14T03:57:53.684062Z"
        },
        "papermill": {
          "duration": 0.031543,
          "end_time": "2022-03-14T04:36:29.832221",
          "exception": false,
          "start_time": "2022-03-14T04:36:29.800678",
          "status": "completed"
        },
        "tags": [],
        "colab": {
          "base_uri": "https://localhost:8080/"
        },
        "id": "412e34e2",
        "outputId": "447cafaa-58b4-4750-cea0-f6595aece236"
      },
      "outputs": [
        {
          "output_type": "stream",
          "name": "stdout",
          "text": [
            "      Predicted Values  Actual Values\n",
            "2095        293.137033     294.140015\n",
            "2284        225.888518     228.039993\n",
            "2015        345.044452     342.950012\n",
            "2346        253.110261     254.679993\n",
            "1730        323.313119     324.809998\n",
            "764         128.297576     129.899994\n",
            "574          28.977135      28.889999\n",
            "521          30.868356      30.660000\n",
            "1004        234.585530     236.889999\n",
            "2070        285.727571     284.959991\n",
            "882         153.865055     152.440002\n",
            "1796        365.156399     362.910004\n",
            "1486        217.076882     217.910004\n",
            "2389        419.842764     425.250000\n",
            "534          29.608771      29.410000\n"
          ]
        }
      ],
      "source": [
        "print(comparison.head(15))"
      ]
    },
    {
      "cell_type": "code",
      "execution_count": 15,
      "id": "53882da5",
      "metadata": {
        "papermill": {
          "duration": 0.019164,
          "end_time": "2022-03-14T04:36:29.872208",
          "exception": false,
          "start_time": "2022-03-14T04:36:29.853044",
          "status": "completed"
        },
        "tags": [],
        "id": "53882da5"
      },
      "outputs": [],
      "source": []
    },
    {
      "cell_type": "markdown",
      "id": "b7c026ac",
      "metadata": {
        "papermill": {
          "duration": 0.019105,
          "end_time": "2022-03-14T04:36:29.911557",
          "exception": false,
          "start_time": "2022-03-14T04:36:29.892452",
          "status": "completed"
        },
        "tags": [],
        "id": "b7c026ac"
      },
      "source": [
        "# Visualizing the data to inspect the relationship between the target and features and showing the best fit line using seaborn.regplot() "
      ]
    },
    {
      "cell_type": "code",
      "execution_count": 24,
      "id": "f00cfc23",
      "metadata": {
        "execution": {
          "iopub.execute_input": "2022-03-14T04:36:29.958744Z",
          "iopub.status.busy": "2022-03-14T04:36:29.958102Z",
          "iopub.status.idle": "2022-03-14T04:36:30.436092Z",
          "shell.execute_reply": "2022-03-14T04:36:30.435394Z",
          "shell.execute_reply.started": "2022-03-14T04:33:59.246536Z"
        },
        "papermill": {
          "duration": 0.503847,
          "end_time": "2022-03-14T04:36:30.436235",
          "exception": false,
          "start_time": "2022-03-14T04:36:29.932388",
          "status": "completed"
        },
        "tags": [],
        "colab": {
          "base_uri": "https://localhost:8080/",
          "height": 466
        },
        "id": "f00cfc23",
        "outputId": "351d4180-1db5-47df-bc57-168a7a6d5be7"
      },
      "outputs": [
        {
          "output_type": "execute_result",
          "data": {
            "text/plain": [
              "<Axes: xlabel='Volume', ylabel='Close'>"
            ]
          },
          "metadata": {},
          "execution_count": 24
        },
        {
          "output_type": "display_data",
          "data": {
            "text/plain": [
              "<Figure size 640x480 with 1 Axes>"
            ],
            "image/png": "[encoded data removed]"
          },
          "metadata": {}
        }
      ],
      "source": [
        "# Closing price vs the Volume\n",
        "seaborn.set_style(\"dark\")\n",
        "seaborn.regplot(x=x['Volume'],y=y)"
      ]
    },
    {
      "cell_type": "code",
      "execution_count": 25,
      "id": "570aa27d",
      "metadata": {
        "execution": {
          "iopub.execute_input": "2022-03-14T04:36:30.485949Z",
          "iopub.status.busy": "2022-03-14T04:36:30.484978Z",
          "iopub.status.idle": "2022-03-14T04:36:30.992110Z",
          "shell.execute_reply": "2022-03-14T04:36:30.992545Z",
          "shell.execute_reply.started": "2022-03-14T04:25:58.870868Z"
        },
        "papermill": {
          "duration": 0.534199,
          "end_time": "2022-03-14T04:36:30.992728",
          "exception": false,
          "start_time": "2022-03-14T04:36:30.458529",
          "status": "completed"
        },
        "tags": [],
        "colab": {
          "base_uri": "https://localhost:8080/",
          "height": 466
        },
        "id": "570aa27d",
        "outputId": "b3f43efb-e85c-42c3-8493-1fecf84ca94b"
      },
      "outputs": [
        {
          "output_type": "execute_result",
          "data": {
            "text/plain": [
              "<Axes: xlabel='Close', ylabel='Open'>"
            ]
          },
          "metadata": {},
          "execution_count": 25
        },
        {
          "output_type": "display_data",
          "data": {
            "text/plain": [
              "<Figure size 640x480 with 1 Axes>"
            ],
            "image/png": "[encoded data removed]"
          },
          "metadata": {}
        }
      ],
      "source": [
        "# Closing price vs Opening price\n",
        "seaborn.regplot(x=y,y=x[\"Open\"])"
      ]
    },
    {
      "cell_type": "code",
      "execution_count": 26,
      "id": "275dbeda",
      "metadata": {
        "execution": {
          "iopub.execute_input": "2022-03-14T04:36:31.058978Z",
          "iopub.status.busy": "2022-03-14T04:36:31.046693Z",
          "iopub.status.idle": "2022-03-14T04:36:31.547261Z",
          "shell.execute_reply": "2022-03-14T04:36:31.547720Z",
          "shell.execute_reply.started": "2022-03-14T04:26:39.507050Z"
        },
        "papermill": {
          "duration": 0.531242,
          "end_time": "2022-03-14T04:36:31.547887",
          "exception": false,
          "start_time": "2022-03-14T04:36:31.016645",
          "status": "completed"
        },
        "tags": [],
        "colab": {
          "base_uri": "https://localhost:8080/",
          "height": 466
        },
        "id": "275dbeda",
        "outputId": "2e6c8b0f-4c1f-4a30-d416-73d63450939e"
      },
      "outputs": [
        {
          "output_type": "execute_result",
          "data": {
            "text/plain": [
              "<Axes: xlabel='Close', ylabel='High'>"
            ]
          },
          "metadata": {},
          "execution_count": 26
        },
        {
          "output_type": "display_data",
          "data": {
            "text/plain": [
              "<Figure size 640x480 with 1 Axes>"
            ],
            "image/png": "[encoded data removed]"
          },
          "metadata": {}
        }
      ],
      "source": [
        "# Closing price vs High price\n",
        "seaborn.regplot(x=y,y=x[\"High\"])"
      ]
    },
    {
      "cell_type": "code",
      "execution_count": 28,
      "id": "fd5ffa21",
      "metadata": {
        "execution": {
          "iopub.execute_input": "2022-03-14T04:36:31.601534Z",
          "iopub.status.busy": "2022-03-14T04:36:31.600648Z",
          "iopub.status.idle": "2022-03-14T04:36:32.093817Z",
          "shell.execute_reply": "2022-03-14T04:36:32.094344Z",
          "shell.execute_reply.started": "2022-03-14T04:29:29.285300Z"
        },
        "papermill": {
          "duration": 0.52257,
          "end_time": "2022-03-14T04:36:32.094530",
          "exception": false,
          "start_time": "2022-03-14T04:36:31.571960",
          "status": "completed"
        },
        "tags": [],
        "colab": {
          "base_uri": "https://localhost:8080/",
          "height": 470
        },
        "id": "fd5ffa21",
        "outputId": "e79758bb-3a82-4b44-b274-06f9839ffe15"
      },
      "outputs": [
        {
          "output_type": "execute_result",
          "data": {
            "text/plain": [
              "<Axes: xlabel='Close', ylabel='Low'>"
            ]
          },
          "metadata": {},
          "execution_count": 28
        },
        {
          "output_type": "display_data",
          "data": {
            "text/plain": [
              "<Figure size 640x480 with 1 Axes>"
            ],
            "image/png": "[encoded data removed]"
          },
          "metadata": {}
        }
      ],
      "source": [
        "# Closing price vs Low price\n",
        "seaborn.regplot(x=y,y=x[\"Low\"])"
      ]
    },
    {
      "cell_type": "code",
      "source": [],
      "metadata": {
        "id": "CgUpsXZSNKKc"
      },
      "id": "CgUpsXZSNKKc",
      "execution_count": null,
      "outputs": []
    }
  ],
  "metadata": {
    "kernelspec": {
      "display_name": "Python 3",
      "language": "python",
      "name": "python3"
    },
    "language_info": {
      "codemirror_mode": {
        "name": "ipython",
        "version": 3
      },
      "file_extension": ".py",
      "mimetype": "text/x-python",
      "name": "python",
      "nbconvert_exporter": "python",
      "pygments_lexer": "ipython3",
      "version": "3.7.12"
    },
    "papermill": {
      "default_parameters": {},
      "duration": 14.388218,
      "end_time": "2022-03-14T04:36:32.884073",
      "environment_variables": {},
      "exception": null,
      "input_path": "__notebook__.ipynb",
      "output_path": "__notebook__.ipynb",
      "parameters": {},
      "start_time": "2022-03-14T04:36:18.495855",
      "version": "2.3.3"
    },
    "colab": {
      "provenance": []
    }
  },
  "nbformat": 4,
  "nbformat_minor": 5
}